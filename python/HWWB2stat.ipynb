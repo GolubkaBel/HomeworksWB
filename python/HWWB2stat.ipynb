{
  "metadata": {
    "kernelspec": {
      "name": "python",
      "display_name": "Python (Pyodide)",
      "language": "python"
    },
    "language_info": {
      "codemirror_mode": {
        "name": "python",
        "version": 3
      },
      "file_extension": ".py",
      "mimetype": "text/x-python",
      "name": "python",
      "nbconvert_exporter": "python",
      "pygments_lexer": "ipython3",
      "version": "3.8"
    }
  },
  "nbformat_minor": 5,
  "nbformat": 4,
  "cells": [
    {
      "id": "757bad81-94e9-484b-bfda-101198c8aa02",
      "cell_type": "code",
      "source": "import math\nimport numpy as np\nimport scipy.stats as sts",
      "metadata": {
        "trusted": true
      },
      "outputs": [],
      "execution_count": 1
    },
    {
      "id": "bf2ea8f6-1c33-4062-ac57-486c47b50a7e",
      "cell_type": "markdown",
      "source": "Задание 1",
      "metadata": {}
    },
    {
      "id": "fe05ac15-d2e9-41bc-9cfd-67b1663b0940",
      "cell_type": "code",
      "source": "# Обновыборочный t-test из библиотеки\nmean = 12\ndata = [12.9, 11.6, 13.5, 13.9, 12.1, 11.9, 13.0]\nprint(sts.ttest_1samp(data, mean))",
      "metadata": {
        "trusted": true
      },
      "outputs": [
        {
          "name": "stdout",
          "text": "TtestResult(statistic=2.1578017974978794, pvalue=0.07430190210562304, df=6)\n",
          "output_type": "stream"
        }
      ],
      "execution_count": 10
    },
    {
      "id": "2126ef6d-b4c8-4173-9140-1467fd0f3356",
      "cell_type": "code",
      "source": "# Обновыборочный t-test, ручная реализация\nmean_data = sum(data)/len(data)\ndata_2 = []\nfor x in data:\n    data_2.append((x-mean_data)**2)\nD = sum(data_2)/(len(data)-1)\nt = (mean_data - mean)/math.sqrt(D/len(data))\nprint('t-statistic:', t)\np_value = sts.t.sf(t, len(data)-1) * 2\nprint('p-value:', p_value)",
      "metadata": {
        "trusted": true
      },
      "outputs": [
        {
          "name": "stdout",
          "text": "t-statistic: 2.15780179749788\np-value: 0.07430190210562304\n",
          "output_type": "stream"
        }
      ],
      "execution_count": 11
    },
    {
      "id": "ceab7d97-2f87-45b8-8ab0-0d6658f42bb5",
      "cell_type": "markdown",
      "source": "Если взять стандартую a=0.05, то тогда у нас нет оснований отвергнуть нулевую гипотезу, а значит мы отклоняем альтернативную, \nа значит, средние равны и отвечая на вопрос: можно считать, что среднее напряжение действительно равно 12В.\nОднако ситуация на грани фола",
      "metadata": {}
    },
    {
      "id": "d3e828a9-e5b9-4075-b031-8caa89059803",
      "cell_type": "markdown",
      "source": "Задание 2",
      "metadata": {}
    },
    {
      "id": "05f3e6be-3366-4582-801f-78b0c07b1993",
      "cell_type": "code",
      "source": "# Двухвыборочный t-test из библиотеки для зависимых данных\ndata_1 = [23.1, 23.2, 26.5, 26.6, 27.1, 48.3, 40.5, 25.0, 38.4, 23.5]\ndata_2 = [22.7, 23.6, 27.1, 27.4, 27.4, 46.8, 40.4, 24.9, 38.1, 23.8]\nprint(sts.ttest_rel(data_1, data_2))",
      "metadata": {
        "trusted": true
      },
      "outputs": [
        {
          "name": "stdout",
          "text": "TtestResult(statistic=1.7154884978678027e-15, pvalue=0.9999999999999987, df=9)\n",
          "output_type": "stream"
        }
      ],
      "execution_count": 12
    },
    {
      "id": "9c577d06-a9e7-490e-9d5c-22831b073198",
      "cell_type": "code",
      "source": "# Двухвыборочный t-test, ручная реализация\ndiff = np.array(data_1) - np.array(data_2)\nt = np.mean(diff)/(np.std(diff, ddof=1)/np.sqrt(len(diff)))\nprint('t-statistic:', t)\np_value = sts.t.sf(t, len(diff)-1) * 2\nprint('p-value:', p_value)",
      "metadata": {
        "trusted": true
      },
      "outputs": [
        {
          "name": "stdout",
          "text": "t-statistic: 1.715488497867803e-15\np-value: 0.9999999999999987\n",
          "output_type": "stream"
        }
      ],
      "execution_count": 13
    },
    {
      "id": "15aa11c5-3a67-4ecd-9228-74794ea9decc",
      "cell_type": "markdown",
      "source": "Здесь уверено не отвергаем нулевую гипотезу\nНет оснований утверждать, что один метод дает в среднем долее высокие показатели нежели другой.",
      "metadata": {}
    },
    {
      "id": "1208271d-1f08-48fb-be86-596248e04ca1",
      "cell_type": "markdown",
      "source": "Задание 3",
      "metadata": {}
    },
    {
      "id": "919f0173-5215-400b-ad88-a0172f0b6219",
      "cell_type": "code",
      "source": "data_1 = [132, 111, 119, 138, 200, 131, 138, 170, 159, 140]\ndata_2 = [115, 190, 127, 155, 148, 121, 116, 121, 197]\nprint(sts.ttest_ind(data_1, data_2, alternative='greater'))",
      "metadata": {
        "trusted": true
      },
      "outputs": [
        {
          "name": "stdout",
          "text": "TtestResult(statistic=0.035165199049777565, pvalue=0.486178812200461, df=17.0)\n",
          "output_type": "stream"
        }
      ],
      "execution_count": 14
    },
    {
      "id": "a8d51c2b-702a-4584-992b-e5bd62bb0ccd",
      "cell_type": "markdown",
      "source": "При уровне значимости 0.05 отвергается нулевая гипотеза в пользу альтернативной, жители городов имеют в среднем более высокое систолическое артериальное давление, чем жители сельской местности",
      "metadata": {}
    },
    {
      "id": "63af0fcd-c39f-4a18-817e-88a9df2b924f",
      "cell_type": "markdown",
      "source": "Задание 4",
      "metadata": {}
    },
    {
      "id": "cf1abc90-dbb5-4d68-a500-c0e6074bc7be",
      "cell_type": "code",
      "source": "# Биноминальный тест\npvalue = sts.binomtest(2500, 5000, 0.48)\nprint(pvalue)",
      "metadata": {
        "trusted": true
      },
      "outputs": [
        {
          "name": "stdout",
          "text": "BinomTestResult(k=2500, n=5000, alternative='two-sided', statistic=0.5, pvalue=0.0048495021595452836)\n",
          "output_type": "stream"
        }
      ],
      "execution_count": 15
    },
    {
      "id": "9bdfaa27-aa08-4ee0-a391-5f1243a7506e",
      "cell_type": "markdown",
      "source": "Здесь я ни так уверена, что вообще правильно сделала, но вроде можно сказать, что смертность среди мужчин и женщин одинакова",
      "metadata": {}
    },
    {
      "id": "49f013fa-cea8-4cc5-835d-b967a749a819",
      "cell_type": "markdown",
      "source": "Задание 5",
      "metadata": {}
    },
    {
      "id": "1effe791-f2fd-4d86-8d36-cb628ced6a09",
      "cell_type": "markdown",
      "source": "Причинами могут быть разные дисперсии, разные размеры выборок и, может быть, выбросы.",
      "metadata": {}
    }
  ]
}